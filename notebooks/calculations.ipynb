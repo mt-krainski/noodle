{
 "cells": [
  {
   "cell_type": "code",
   "execution_count": 19,
   "metadata": {},
   "outputs": [],
   "source": [
    "import math"
   ]
  },
  {
   "cell_type": "code",
   "execution_count": null,
   "metadata": {},
   "outputs": [],
   "source": [
    "ALUMINIUM_DENSITY = 2700  # [kg/m³]\n",
    "\n",
    "def square_pipe_mass(height, width, depth, thickness, density):\n",
    "    volume_full = height * width * depth\n",
    "    volume_inner = height * (width-2*thickness) * (depth-2*thickness)\n",
    "    return (volume_full-volume_inner) * density\n"
   ]
  },
  {
   "cell_type": "code",
   "execution_count": 4,
   "metadata": {},
   "outputs": [],
   "source": [
    "LEG_MASS_MEASURED = 0.431\n",
    "HEAD_MASS_MEASURED = 0.8845\n",
    "TOTAL_MASS_MEASURED = 4*LEG_MASS_MEASURED + HEAD_MASS_MEASURED"
   ]
  },
  {
   "cell_type": "code",
   "execution_count": null,
   "metadata": {},
   "outputs": [],
   "source": [
    "FEMUR_WIDTH = 0.01  # [m]\n",
    "FEMUR_DEPTH = 0.01  # [m]\n",
    "FEMUR_HEIGHT = 0.3  # [m]\n",
    "FEMUR_THICKNESS = 0.001  # [m]\n",
    "\n",
    "FEMUR_MASS = square_pipe_mass(\n",
    "    height=FEMUR_HEIGHT,\n",
    "    width=FEMUR_WIDTH,\n",
    "    depth=FEMUR_DEPTH,\n",
    "    thickness=FEMUR_THICKNESS,\n",
    "    density=ALUMINIUM_DENSITY\n",
    ")"
   ]
  },
  {
   "cell_type": "code",
   "execution_count": 10,
   "metadata": {},
   "outputs": [
    {
     "name": "stdout",
     "output_type": "stream",
     "text": [
      "Femur mass:  0.02916 kg\n"
     ]
    }
   ],
   "source": [
    "print(f'Femur mass: {FEMUR_MASS: .5f} kg')"
   ]
  },
  {
   "cell_type": "code",
   "execution_count": 26,
   "metadata": {},
   "outputs": [
    {
     "data": {
      "text/plain": [
       "77.80571428571429"
      ]
     },
     "execution_count": 26,
     "metadata": {},
     "output_type": "execute_result"
    }
   ],
   "source": [
    "5*18/70+71.52+5"
   ]
  }
 ],
 "metadata": {
  "kernelspec": {
   "display_name": "Python (ros)",
   "language": "python",
   "name": "ros"
  },
  "language_info": {
   "codemirror_mode": {
    "name": "ipython",
    "version": 3
   },
   "file_extension": ".py",
   "mimetype": "text/x-python",
   "name": "python",
   "nbconvert_exporter": "python",
   "pygments_lexer": "ipython3",
   "version": "3.7.1"
  }
 },
 "nbformat": 4,
 "nbformat_minor": 2
}
